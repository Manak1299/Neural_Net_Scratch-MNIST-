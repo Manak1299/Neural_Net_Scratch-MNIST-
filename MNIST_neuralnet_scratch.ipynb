{
 "cells": [
  {
   "cell_type": "code",
   "execution_count": 12,
   "metadata": {},
   "outputs": [],
   "source": [
    "import numpy as np\n",
    "%matplotlib inline\n",
    "import matplotlib\n",
    "import matplotlib.pyplot as plt\n",
    "from sklearn.datasets import fetch_openml\n",
    "from sklearn.metrics import classification_report, confusion_matrix"
   ]
  },
  {
   "cell_type": "code",
   "execution_count": 15,
   "metadata": {},
   "outputs": [],
   "source": [
    "mnist = fetch_openml('mnist_784')\n",
    "inputData, y = mnist[\"data\"], mnist[\"target\"]\n",
    "\n",
    "inputData = inputData/ 255\n",
    "nDigits = 10\n",
    "\n",
    "yOneHot = np.zeros([y.shape[0],nDigits])\n",
    "for i in range(y.shape[0]):\n",
    "    yOneHot[i,int(y[i])] = 1\n",
    "\n",
    "y = yOneHot\n",
    "\n",
    "m = 60000\n",
    "m_test = inputData.shape[0] - m\n",
    "\n",
    "y_train, y_test = y[:m,:].reshape(m,nDigits), y[m:,:].reshape(m_test,nDigits)\n",
    "InputData_train, InputData_test = inputData[:m,:], inputData[m:,:]\n",
    "\n",
    "np.random.seed(1002)"
   ]
  },
  {
   "cell_type": "code",
   "execution_count": 17,
   "metadata": {},
   "outputs": [
    {
     "data": {
      "text/plain": [
       "array([0., 0., 0., 0., 0., 0., 0., 0., 1., 0.])"
      ]
     },
     "execution_count": 17,
     "metadata": {},
     "output_type": "execute_result"
    }
   ],
   "source": [
    "y[7000,:]"
   ]
  },
  {
   "cell_type": "code",
   "execution_count": 21,
   "metadata": {},
   "outputs": [
    {
     "data": {
      "image/png": "[encoded data removed]",
      "text/plain": [
       "<Figure size 432x288 with 1 Axes>"
      ]
     },
     "metadata": {
      "needs_background": "light"
     },
     "output_type": "display_data"
    },
    {
     "name": "stdout",
     "output_type": "stream",
     "text": [
      "[0. 0. 0. 0. 0. 0. 0. 0. 1. 0.]\n"
     ]
    }
   ],
   "source": [
    "i = 7000\n",
    "plt.imshow(InputData_train[i,:].reshape(28,28), cmap = matplotlib.cm.binary)\n",
    "plt.axis(\"off\")\n",
    "plt.show()\n",
    "print(y_train[i,:])"
   ]
  },
  {
   "cell_type": "code",
   "execution_count": 22,
   "metadata": {},
   "outputs": [],
   "source": [
    "# Define activation functions, dervatives, loss\n",
    "\n",
    "def sigmoid(x):\n",
    "    return 1/(1 + np.exp(-x))\n",
    "\n",
    "def sigmoid_derivative(z):\n",
    "    return z * (1-z)\n",
    "\n",
    "def relu(x):\n",
    "    return np.maximum(0,x)\n",
    "\n",
    "def relu_derivative(x):\n",
    "    return 0.5 * (np.sign(x)+1)\n",
    "\n",
    "def CrossEntropyLoss(y,y_hat):\n",
    "    L_sum = np.sum(np.multiply(y, np.log(y_hat)))\n",
    "    m = y.shape[1]\n",
    "    L = -(1/m) * L_sum\n",
    "    \n",
    "    return L\n",
    "\n",
    "def softmax(y):\n",
    "    return np.exp(y)/ np.sum(np.exp(y), axis=0)\n",
    "\n",
    "def CE_Softmax_Derivative(output, ideal_output):\n",
    "    return output - ideal_output\n"
   ]
  },
  {
   "cell_type": "code",
   "execution_count": 23,
   "metadata": {},
   "outputs": [],
   "source": [
    "inputDim = InputData_train.shape[1]\n",
    "nHidden = 64\n",
    "learning_rate =1\n",
    "weight_decay = 0.001\n",
    "\n",
    "W1 = 0.01*np.random.rand(nHidden, inputDim) \n",
    "b1 = np.zeros((nHidden, 1))\n",
    "W2 = 0.01*np.random.rand(nDigits, nHidden)\n",
    "b2 = np.zeros((nDigits,1))\n",
    "\n",
    "inputData = InputData_train\n",
    "y = y_train"
   ]
  },
  {
   "cell_type": "code",
   "execution_count": 27,
   "metadata": {},
   "outputs": [
    {
     "name": "stdout",
     "output_type": "stream",
     "text": [
      "Epoch 0 cost:  2.30295095198555\n",
      "Epoch 10 cost:  2.1792111503058957\n",
      "Epoch 20 cost:  1.220014151708829\n",
      "Epoch 30 cost:  0.7869406311035854\n",
      "Epoch 40 cost:  0.7218048705729229\n",
      "Epoch 50 cost:  0.6780928653292609\n",
      "Epoch 60 cost:  0.40505189484698073\n",
      "Epoch 70 cost:  0.34374236955189297\n",
      "Epoch 80 cost:  0.4442487403566684\n",
      "Epoch 90 cost:  0.29439557894423224\n"
     ]
    },
    {
     "data": {
      "text/plain": [
       "<function matplotlib.pyplot.show(*args, **kw)>"
      ]
     },
     "execution_count": 27,
     "metadata": {},
     "output_type": "execute_result"
    },
    {
     "data": {
      "image/png": "[encoded data removed]",
      "text/plain": [
       "<Figure size 432x288 with 1 Axes>"
      ]
     },
     "metadata": {
      "needs_background": "light"
     },
     "output_type": "display_data"
    }
   ],
   "source": [
    "nEpochs = 100\n",
    "costPlot = np.zeros(nEpochs)\n",
    "\n",
    "for i in range(nEpochs):\n",
    "    \n",
    "    #Forward Pass\n",
    "    Z1 = np.matmul(W1,inputData.T)+b1\n",
    "    A1 = relu(Z1)\n",
    "    Z2 = np.matmul(W2,A1)+b2\n",
    "    A2 = softmax(Z2)\n",
    "    \n",
    "    cost = CrossEntropyLoss(y.T, A2)\n",
    "    costPlot[i] = cost\n",
    "    \n",
    "    dZ2 = CE_Softmax_Derivative(A2,y.T)\n",
    "    dW2 = (1./m) * np.matmul(dZ2, A1.T)\n",
    "    db2 = (1./m) * np.sum(dZ2, axis=1, keepdims=True)\n",
    "\n",
    "    dA1 = np.matmul(W2.T, dZ2)\n",
    "    dZ1 = dA1 * relu_derivative(Z1)\n",
    "    dW1 = (1./m) * np.matmul(dZ1, inputData)\n",
    "    db1 = (1./m) * np.sum(dZ1, axis=1, keepdims=True)\n",
    "\n",
    "    W2 -= learning_rate * dW2 + weight_decay * W2\n",
    "    b2 -= learning_rate * db2\n",
    "    W1 -= learning_rate * dW1 + weight_decay * W1\n",
    "    b1 -= learning_rate * db1\n",
    "    \n",
    "    if (i % 10 == 0):\n",
    "        print(\"Epoch\", i, \"cost: \", cost)\n",
    "    \n",
    "plt.plot(costPlot)\n",
    "plt.xlabel('Epochs')\n",
    "plt.ylabel('Training Loss')\n",
    "plt.show    \n",
    "    "
   ]
  },
  {
   "cell_type": "code",
   "execution_count": 31,
   "metadata": {},
   "outputs": [
    {
     "name": "stdout",
     "output_type": "stream",
     "text": [
      "[[ 959    0   10    2    1    9    9    2    4   11]\n",
      " [   0 1112    9    2    4    2    3   10    7    8]\n",
      " [   0    1  937   15    3    1    4   25    4    1]\n",
      " [   1    3   13  934    0   30    0    2   18   12]\n",
      " [   0    1   13    0  925    5    9    7    9   37]\n",
      " [   5    0    1   21    0  806    7    0   10    5]\n",
      " [  11    4   14    2   10   12  922    0   15    1]\n",
      " [   1    2   11   16    2    4    1  960    8    8]\n",
      " [   3   12   21   13    3   15    3    2  891    2]\n",
      " [   0    0    3    5   34    8    0   20    8  924]]\n",
      "              precision    recall  f1-score   support\n",
      "\n",
      "           0       0.98      0.95      0.97      1007\n",
      "           1       0.98      0.96      0.97      1157\n",
      "           2       0.91      0.95      0.93       991\n",
      "           3       0.92      0.92      0.92      1013\n",
      "           4       0.94      0.92      0.93      1006\n",
      "           5       0.90      0.94      0.92       855\n",
      "           6       0.96      0.93      0.95       991\n",
      "           7       0.93      0.95      0.94      1013\n",
      "           8       0.91      0.92      0.92       965\n",
      "           9       0.92      0.92      0.92      1002\n",
      "\n",
      "    accuracy                           0.94     10000\n",
      "   macro avg       0.94      0.94      0.94     10000\n",
      "weighted avg       0.94      0.94      0.94     10000\n",
      "\n"
     ]
    }
   ],
   "source": [
    "Z1 = np.matmul(W1, InputData_test.T) + b1\n",
    "A1 = relu(Z1)\n",
    "Z2 = np.matmul(W2, A1) + b2\n",
    "\n",
    "predictions = np.argmax(Z2, axis=0)\n",
    "labels = np.argmax(y_test.T, axis=0)\n",
    "\n",
    "print(confusion_matrix(predictions, labels))\n",
    "print(classification_report(predictions, labels))"
   ]
  },
  {
   "cell_type": "code",
   "execution_count": null,
   "metadata": {},
   "outputs": [],
   "source": []
  }
 ],
 "metadata": {
  "kernelspec": {
   "display_name": "Python 3",
   "language": "python",
   "name": "python3"
  },
  "language_info": {
   "codemirror_mode": {
    "name": "ipython",
    "version": 3
   },
   "file_extension": ".py",
   "mimetype": "text/x-python",
   "name": "python",
   "nbconvert_exporter": "python",
   "pygments_lexer": "ipython3",
   "version": "3.7.7"
  }
 },
 "nbformat": 4,
 "nbformat_minor": 4
}
